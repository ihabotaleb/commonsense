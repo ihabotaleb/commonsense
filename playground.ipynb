{
 "cells": [
  {
   "cell_type": "code",
   "execution_count": null,
   "id": "44253dd7-bd75-43c5-9eb2-7d417b019e69",
   "metadata": {},
   "outputs": [],
   "source": [
    "import cv2\n",
    "import matplotlib.pyplot as plt"
   ]
  },
  {
   "cell_type": "markdown",
   "id": "7c2f2763-d0ff-4532-a31e-31e3c37fedd4",
   "metadata": {},
   "source": [
    "## CommonSense"
   ]
  },
  {
   "cell_type": "markdown",
   "id": "ee970fb0-99d8-488c-a870-b6e1323273fa",
   "metadata": {},
   "source": [
    "## Goals\n",
    "- Triangulate same object from different views\n",
    "\n",
    "### Steps\n",
    "1. Process one feed\n",
    "1. Take a video of the empty seating space, and have it be occupied sometime during the video\n",
    "1. On test video, identify a marker form the image\n",
    "1. On test video, determine bounds\n",
    "1. Attempt to determine occupancy from a planar 2D section\n",
    "\n",
    "### If possible\n",
    "5. Cross stitch information from two views\n",
    "2. Capture visuals of the same scene from two different cameras"
   ]
  },
  {
   "cell_type": "markdown",
   "id": "750b6f66",
   "metadata": {},
   "source": [
    "## 1. Process one feed"
   ]
  },
  {
   "cell_type": "code",
   "execution_count": null,
   "id": "d25568f0-16c0-44ed-9412-e2ba6ddda8f7",
   "metadata": {},
   "outputs": [],
   "source": [
    "camera = cv2.VideoCapture(0)"
   ]
  },
  {
   "cell_type": "code",
   "execution_count": null,
   "id": "02b531a6-cfed-4cd4-afa2-3944f7257c02",
   "metadata": {},
   "outputs": [],
   "source": [
    "# # starts a browser view of the default camera connected to the device\n",
    "# while True:\n",
    "#     ret, frame = camera.read()\n",
    "#     cv2.imshow('frame', frame)\n",
    "#     if cv2.waitKey(1) & 0xFF == ord('q'):\n",
    "#         break\n",
    "\n",
    "# camera.release()\n",
    "# cv2.destroyAllWindows()"
   ]
  },
  {
   "cell_type": "code",
   "execution_count": null,
   "id": "b1b2988c",
   "metadata": {},
   "outputs": [],
   "source": [
    "# get a single frame from the camera\n",
    "ret, frame = camera.read()\n",
    "plt.imshow(cv2.cvtColor(frame, cv2.COLOR_BGR2RGB)) # we convert the image to RGB \n",
    "                                                   # because matplotlib uses RGB, \n",
    "                                                   # while cv2 uses BGR\n",
    "\n",
    "camera.release()"
   ]
  }
 ],
 "metadata": {
  "kernelspec": {
   "display_name": "Python 3 (ipykernel)",
   "language": "python",
   "name": "python3"
  },
  "language_info": {
   "codemirror_mode": {
    "name": "ipython",
    "version": 3
   },
   "file_extension": ".py",
   "mimetype": "text/x-python",
   "name": "python",
   "nbconvert_exporter": "python",
   "pygments_lexer": "ipython3",
   "version": "3.9.6"
  }
 },
 "nbformat": 4,
 "nbformat_minor": 5
}
